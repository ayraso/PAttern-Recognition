{
  "nbformat": 4,
  "nbformat_minor": 0,
  "metadata": {
    "colab": {
      "provenance": []
    },
    "kernelspec": {
      "name": "python3",
      "display_name": "Python 3"
    },
    "language_info": {
      "name": "python"
    }
  },
  "cells": [
    {
      "cell_type": "markdown",
      "source": [
        "# **Kendi Yazdığım Fonksiyonlarla Oluşturduğum Program**"
      ],
      "metadata": {
        "id": "eGNV_ifDODSL"
      }
    },
    {
      "cell_type": "code",
      "execution_count": 25,
      "metadata": {
        "id": "Q2SmyitnK53U"
      },
      "outputs": [],
      "source": [
        "# train data\n",
        "\n",
        "x = [['free', 'free', 'free', 'buy', 'discount', 'combo', 'pleasure'],\n",
        "     ['free', 'free', 'discount', 'pleasure', 'smile', 'smile', 'smile'],\n",
        "     ['cat', 'mouse'],\n",
        "     ['cat', 'cat', 'dog', 'dog', 'dog', 'dog'],\n",
        "     ['mouse']]\n",
        "     \n",
        "y = ['S', 'S', 'N', 'N', 'N']"
      ]
    },
    {
      "cell_type": "code",
      "source": [
        "import math\n",
        "\n",
        "def calculate_mi_probabilities(x, y):\n",
        "    word_counts = {}\n",
        "    class_counts = {'S': 0, 'N': 0}\n",
        "\n",
        "    for doc, label in zip(x, y):\n",
        "        class_counts[label] += 1\n",
        "        for word in doc:\n",
        "            if word not in word_counts:\n",
        "                word_counts[word] = {'S': 0, 'N': 0}\n",
        "\n",
        "            word_counts[word][label] += 1\n",
        "\n",
        "    word_probabilities = {}\n",
        "\n",
        "    for word in word_counts:\n",
        "        P_W0_Cs = word_counts[word]['S'] / class_counts['S']\n",
        "        P_W0_Cn = word_counts[word]['N'] / class_counts['N']\n",
        "        \n",
        "        P_W1_Cs = 1 - P_W0_Cs\n",
        "        P_W1_Cn = 1 - P_W0_Cn\n",
        "\n",
        "        epsilon = 1e-10  # epsilon değeri\n",
        "        if P_W1_Cn <= 0:\n",
        "            P_W1_Cn = epsilon\n",
        "        if P_W1_Cs <= 0:\n",
        "            P_W1_Cs = epsilon\n",
        "        if P_W0_Cn <= 0:\n",
        "            P_W0_Cn = epsilon\n",
        "        if P_W0_Cs <= 0:\n",
        "            P_W0_Cs = epsilon\n",
        "\n",
        "        MI = P_W0_Cs * math.log2(P_W0_Cs / (P_W0_Cs + P_W0_Cn)) \\\n",
        "             + P_W1_Cs * math.log2(P_W1_Cs / (P_W1_Cs + P_W1_Cn)) \\\n",
        "             + P_W0_Cn * math.log2(P_W0_Cn / (P_W0_Cs + P_W0_Cn)) \\\n",
        "             + P_W1_Cn * math.log2(P_W1_Cn / (P_W1_Cs + P_W1_Cn))\n",
        "        \n",
        "        word_probabilities[word] = {\n",
        "            'P_W0_Cs': P_W0_Cs,\n",
        "            'P_W1_Cs': P_W1_Cs,\n",
        "            'P_W0_Cn': P_W0_Cn,\n",
        "            'P_W1_Cn': P_W1_Cn,\n",
        "            'MI': MI\n",
        "        }\n",
        "\n",
        "    return word_probabilities"
      ],
      "metadata": {
        "id": "xuM1P1LfLSCN"
      },
      "execution_count": 26,
      "outputs": []
    },
    {
      "cell_type": "code",
      "source": [
        "# Sonuçlar\n",
        "word_probabilities = calculate_mi_probabilities(x, y)\n",
        "\n",
        "# MI değerlerine göre en büyük iki değeri seçme\n",
        "top2_words = sorted(word_probabilities.items(), key=lambda x: x[1]['MI'], reverse=True)[:2]\n",
        "\n",
        "top2_words"
      ],
      "metadata": {
        "colab": {
          "base_uri": "https://localhost:8080/"
        },
        "id": "Ug0Ii66TLT0O",
        "outputId": "c367919c-73f8-45ab-b5f5-348c50d2a301"
      },
      "execution_count": 52,
      "outputs": [
        {
          "output_type": "execute_result",
          "data": {
            "text/plain": [
              "[('discount',\n",
              "  {'P_W0_Cs': 1.0,\n",
              "   'P_W1_Cs': 1e-10,\n",
              "   'P_W0_Cn': 1e-10,\n",
              "   'P_W1_Cn': 1.0,\n",
              "   'MI': -6.932395221869623e-09}),\n",
              " ('pleasure',\n",
              "  {'P_W0_Cs': 1.0,\n",
              "   'P_W1_Cs': 1e-10,\n",
              "   'P_W0_Cn': 1e-10,\n",
              "   'P_W1_Cn': 1.0,\n",
              "   'MI': -6.932395221869623e-09})]"
            ]
          },
          "metadata": {},
          "execution_count": 52
        }
      ]
    },
    {
      "cell_type": "code",
      "source": [
        "for word in word_probabilities:\n",
        "    print(\"Word:\", word)\n",
        "    print(\"P(W=0, C=S):\", word_probabilities[word]['P_W0_Cs'])\n",
        "    print(\"P(W=1, C=S):\", word_probabilities[word]['P_W1_Cs'])\n",
        "    print(\"P(W=0, C=N):\", word_probabilities[word]['P_W0_Cn'])\n",
        "    print(\"P(W=1, C=N):\", word_probabilities[word]['P_W1_Cn'])\n",
        "    print(\"MI:\", word_probabilities[word]['MI'])\n",
        "    print()\n"
      ],
      "metadata": {
        "colab": {
          "base_uri": "https://localhost:8080/"
        },
        "id": "TaQeeqJcM0cD",
        "outputId": "1afe3925-c5bb-4e35-8baf-2c0dd9d261ae"
      },
      "execution_count": 50,
      "outputs": [
        {
          "output_type": "stream",
          "name": "stdout",
          "text": [
            "Word: free\n",
            "P(W=0, C=S): 2.5\n",
            "P(W=1, C=S): 1e-10\n",
            "P(W=0, C=N): 1e-10\n",
            "P(W=1, C=N): 1.0\n",
            "MI: -7.064588031345375e-09\n",
            "\n",
            "Word: buy\n",
            "P(W=0, C=S): 0.5\n",
            "P(W=1, C=S): 0.5\n",
            "P(W=0, C=N): 1e-10\n",
            "P(W=1, C=N): 1.0\n",
            "MI: -1.377443754447932\n",
            "\n",
            "Word: discount\n",
            "P(W=0, C=S): 1.0\n",
            "P(W=1, C=S): 1e-10\n",
            "P(W=0, C=N): 1e-10\n",
            "P(W=1, C=N): 1.0\n",
            "MI: -6.932395221869623e-09\n",
            "\n",
            "Word: combo\n",
            "P(W=0, C=S): 0.5\n",
            "P(W=1, C=S): 0.5\n",
            "P(W=0, C=N): 1e-10\n",
            "P(W=1, C=N): 1.0\n",
            "MI: -1.377443754447932\n",
            "\n",
            "Word: pleasure\n",
            "P(W=0, C=S): 1.0\n",
            "P(W=1, C=S): 1e-10\n",
            "P(W=0, C=N): 1e-10\n",
            "P(W=1, C=N): 1.0\n",
            "MI: -6.932395221869623e-09\n",
            "\n",
            "Word: smile\n",
            "P(W=0, C=S): 1.5\n",
            "P(W=1, C=S): 1e-10\n",
            "P(W=0, C=N): 1e-10\n",
            "P(W=1, C=N): 1.0\n",
            "MI: -6.990891471934525e-09\n",
            "\n",
            "Word: cat\n",
            "P(W=0, C=S): 1e-10\n",
            "P(W=1, C=S): 1.0\n",
            "P(W=0, C=N): 1.0\n",
            "P(W=1, C=N): 1e-10\n",
            "MI: -6.932395221869623e-09\n",
            "\n",
            "Word: mouse\n",
            "P(W=0, C=S): 1e-10\n",
            "P(W=1, C=S): 1.0\n",
            "P(W=0, C=N): 0.6666666666666666\n",
            "P(W=1, C=N): 0.33333333333333337\n",
            "MI: -1.0817041693532121\n",
            "\n",
            "Word: dog\n",
            "P(W=0, C=S): 1e-10\n",
            "P(W=1, C=S): 1.0\n",
            "P(W=0, C=N): 1.3333333333333333\n",
            "P(W=1, C=N): 1e-10\n",
            "MI: -6.973898971792097e-09\n",
            "\n"
          ]
        }
      ]
    },
    {
      "cell_type": "code",
      "source": [
        "\n",
        "def calculate_tfidf_score(word, document):\n",
        "    term_frequency = document.count(word)\n",
        "    normalized_term_frequency = term_frequency / len(document)\n",
        "    inverse_document_frequency = math.log(1 / (term_frequency + 1))\n",
        "    tfidf_score = normalized_term_frequency * inverse_document_frequency\n",
        "    return tfidf_score\n"
      ],
      "metadata": {
        "id": "diadlb1yUaar"
      },
      "execution_count": 43,
      "outputs": []
    },
    {
      "cell_type": "code",
      "source": [
        "# Her bir train dokümanını seçilen iki kelimeyle temsil etme\n",
        "representations = []\n",
        "for document in x:\n",
        "    representation = []\n",
        "    for word, _ in top2_words:\n",
        "        tfidf_score = calculate_tfidf_score(word, document)\n",
        "        representation.append(tfidf_score)\n",
        "    representations.append(representation)\n",
        "\n",
        "print(\"Training Data Representations:\")\n",
        "for doc, representation in zip(x, representations):\n",
        "    print(\"Document:\", doc)\n",
        "    print(\"Representation:\", representation)\n",
        "    print()"
      ],
      "metadata": {
        "colab": {
          "base_uri": "https://localhost:8080/"
        },
        "id": "JgEVJNJxMSFU",
        "outputId": "3ae29d34-5ae9-42e4-c03f-61875212b482"
      },
      "execution_count": 44,
      "outputs": [
        {
          "output_type": "stream",
          "name": "stdout",
          "text": [
            "Training Data Representations:\n",
            "Document: ['free', 'free', 'free', 'buy', 'discount', 'combo', 'pleasure']\n",
            "Representation: [-0.09902102579427789, -0.09902102579427789]\n",
            "\n",
            "Document: ['free', 'free', 'discount', 'pleasure', 'smile', 'smile', 'smile']\n",
            "Representation: [0.0, 0.0]\n",
            "\n",
            "Document: ['cat', 'mouse']\n",
            "Representation: [0.0, 0.0]\n",
            "\n",
            "Document: ['cat', 'cat', 'dog', 'dog', 'dog', 'dog']\n",
            "Representation: [0.0, 0.0]\n",
            "\n",
            "Document: ['mouse']\n",
            "Representation: [0.0, 0.0]\n",
            "\n"
          ]
        }
      ]
    },
    {
      "cell_type": "code",
      "source": [
        "# Test data\n",
        "test_data = [['dog', 'cat', 'mouse', 'cat'],\n",
        "             ['Free', 'free', 'smile']]"
      ],
      "metadata": {
        "id": "g9_8x4WuAhQO"
      },
      "execution_count": 45,
      "outputs": []
    },
    {
      "cell_type": "code",
      "source": [
        "\n",
        "test_representations = []\n",
        "for document in test_data:\n",
        "    representation = []\n",
        "    for word, _ in top2_words:\n",
        "        tfidf_score = calculate_tfidf_score(word, document)\n",
        "        representation.append(tfidf_score)\n",
        "    test_representations.append(representation)\n",
        "\n",
        "print(\"Test Data Representations:\")\n",
        "for doc, representation in zip(test_data, test_representations):\n",
        "    print(\"Document:\", doc)\n",
        "    print(\"Representation:\", representation)\n",
        "    print()"
      ],
      "metadata": {
        "colab": {
          "base_uri": "https://localhost:8080/"
        },
        "id": "YnZlDa4J_wM4",
        "outputId": "3386d2b2-c9fc-469b-a46f-9028b9950189"
      },
      "execution_count": 46,
      "outputs": [
        {
          "output_type": "stream",
          "name": "stdout",
          "text": [
            "Test Data Representations:\n",
            "Document: ['dog', 'cat', 'mouse', 'cat']\n",
            "Representation: [0.0, 0.0]\n",
            "\n",
            "Document: ['Free', 'free', 'smile']\n",
            "Representation: [0.0, 0.0]\n",
            "\n"
          ]
        }
      ]
    },
    {
      "cell_type": "code",
      "source": [
        "from sklearn.neighbors import KNeighborsClassifier\n",
        "\n",
        "knn = KNeighborsClassifier(n_neighbors=2)\n",
        "knn.fit(representations, y)\n",
        "predictions = knn.predict(test_representations)\n",
        "\n",
        "\n",
        "print(\"Test Data Predictions:\")\n",
        "for doc, prediction in zip(test_data, predictions):\n",
        "    print(\"Document:\", doc)\n",
        "    print(\"Prediction:\", prediction)\n",
        "    print()\n"
      ],
      "metadata": {
        "colab": {
          "base_uri": "https://localhost:8080/"
        },
        "id": "kVf4FktrAT_i",
        "outputId": "88eb4ec0-7658-4024-c0ab-790158ad85fc"
      },
      "execution_count": 47,
      "outputs": [
        {
          "output_type": "stream",
          "name": "stdout",
          "text": [
            "Test Data Predictions:\n",
            "Document: ['dog', 'cat', 'mouse', 'cat']\n",
            "Prediction: N\n",
            "\n",
            "Document: ['Free', 'free', 'smile']\n",
            "Prediction: N\n",
            "\n"
          ]
        }
      ]
    },
    {
      "cell_type": "markdown",
      "source": [
        "# **Hazır Kütüphane Fonksiyonlarıyla Oluşturduğum Program**"
      ],
      "metadata": {
        "id": "KqRPkaSrOKwq"
      }
    },
    {
      "cell_type": "code",
      "source": [
        "import numpy as np\n",
        "from sklearn.feature_extraction.text import TfidfVectorizer\n",
        "from sklearn.feature_selection import mutual_info_classif\n",
        "from sklearn.neighbors import KNeighborsClassifier"
      ],
      "metadata": {
        "id": "my2CyepXCR1v"
      },
      "execution_count": 53,
      "outputs": []
    },
    {
      "cell_type": "code",
      "execution_count": 54,
      "metadata": {
        "id": "GR03i3Zu-lwO"
      },
      "outputs": [],
      "source": [
        "documents = [\n",
        "    'free free free buy discount combo pleasure',             # d1\n",
        "    'free free free discount pleasure smile smile smile',     # d2\n",
        "    'cat mouse',                                              # d3\n",
        "    'cat cat dog dog dog dog',                                # d4\n",
        "    'mouse',                                                  # d5\n",
        "]\n",
        "\n",
        "classes = ['S', 'S', 'N', 'N', 'N']\n",
        "\n",
        "all_documents = [' '.join(doc.split()) for doc in documents]"
      ]
    },
    {
      "cell_type": "code",
      "source": [
        "vectorizer = TfidfVectorizer()\n",
        "\n",
        "tfidf_scores = vectorizer.fit_transform(all_documents).toarray()"
      ],
      "metadata": {
        "id": "Vf5JxaOMCZd7"
      },
      "execution_count": 55,
      "outputs": []
    },
    {
      "cell_type": "code",
      "source": [
        "mi_scores = mutual_info_classif(tfidf_scores, classes)\n",
        "\n",
        "word_mi_scores = list(zip(vectorizer.get_feature_names_out(), mi_scores))\n",
        "word_mi_scores.sort(key=lambda x: x[1], reverse=True)\n",
        "\n",
        "selected_words = [word for word, _ in word_mi_scores[:2]]\n",
        "\n",
        "print(\"Selected words:\", selected_words)"
      ],
      "metadata": {
        "colab": {
          "base_uri": "https://localhost:8080/"
        },
        "id": "2bsll_qACeKC",
        "outputId": "b2f42abe-8867-42cc-8b72-baf4d8755634"
      },
      "execution_count": 56,
      "outputs": [
        {
          "output_type": "stream",
          "name": "stdout",
          "text": [
            "Selected words: ['discount', 'free']\n"
          ]
        }
      ]
    },
    {
      "cell_type": "code",
      "source": [
        "d6 = ['dog', 'cat', 'mouse', 'cat']\n",
        "d6_vector = vectorizer.transform([' '.join(d6)]).toarray()\n",
        "\n",
        "d7 = ['Free', 'free', 'smile']\n",
        "d7_vector = vectorizer.transform([' '.join(d7)]).toarray()"
      ],
      "metadata": {
        "id": "4-GCMb4HCn4o"
      },
      "execution_count": 57,
      "outputs": []
    },
    {
      "cell_type": "code",
      "source": [
        "knn = KNeighborsClassifier(n_neighbors=3)\n",
        "\n",
        "knn.fit(tfidf_scores, classes)"
      ],
      "metadata": {
        "colab": {
          "base_uri": "https://localhost:8080/",
          "height": 74
        },
        "id": "ml2B9gbiCkTc",
        "outputId": "31303371-4b16-4b5d-811f-3088376b02c7"
      },
      "execution_count": 58,
      "outputs": [
        {
          "output_type": "execute_result",
          "data": {
            "text/plain": [
              "KNeighborsClassifier(n_neighbors=3)"
            ],
            "text/html": [
              "<style>#sk-container-id-1 {color: black;background-color: white;}#sk-container-id-1 pre{padding: 0;}#sk-container-id-1 div.sk-toggleable {background-color: white;}#sk-container-id-1 label.sk-toggleable__label {cursor: pointer;display: block;width: 100%;margin-bottom: 0;padding: 0.3em;box-sizing: border-box;text-align: center;}#sk-container-id-1 label.sk-toggleable__label-arrow:before {content: \"▸\";float: left;margin-right: 0.25em;color: #696969;}#sk-container-id-1 label.sk-toggleable__label-arrow:hover:before {color: black;}#sk-container-id-1 div.sk-estimator:hover label.sk-toggleable__label-arrow:before {color: black;}#sk-container-id-1 div.sk-toggleable__content {max-height: 0;max-width: 0;overflow: hidden;text-align: left;background-color: #f0f8ff;}#sk-container-id-1 div.sk-toggleable__content pre {margin: 0.2em;color: black;border-radius: 0.25em;background-color: #f0f8ff;}#sk-container-id-1 input.sk-toggleable__control:checked~div.sk-toggleable__content {max-height: 200px;max-width: 100%;overflow: auto;}#sk-container-id-1 input.sk-toggleable__control:checked~label.sk-toggleable__label-arrow:before {content: \"▾\";}#sk-container-id-1 div.sk-estimator input.sk-toggleable__control:checked~label.sk-toggleable__label {background-color: #d4ebff;}#sk-container-id-1 div.sk-label input.sk-toggleable__control:checked~label.sk-toggleable__label {background-color: #d4ebff;}#sk-container-id-1 input.sk-hidden--visually {border: 0;clip: rect(1px 1px 1px 1px);clip: rect(1px, 1px, 1px, 1px);height: 1px;margin: -1px;overflow: hidden;padding: 0;position: absolute;width: 1px;}#sk-container-id-1 div.sk-estimator {font-family: monospace;background-color: #f0f8ff;border: 1px dotted black;border-radius: 0.25em;box-sizing: border-box;margin-bottom: 0.5em;}#sk-container-id-1 div.sk-estimator:hover {background-color: #d4ebff;}#sk-container-id-1 div.sk-parallel-item::after {content: \"\";width: 100%;border-bottom: 1px solid gray;flex-grow: 1;}#sk-container-id-1 div.sk-label:hover label.sk-toggleable__label {background-color: #d4ebff;}#sk-container-id-1 div.sk-serial::before {content: \"\";position: absolute;border-left: 1px solid gray;box-sizing: border-box;top: 0;bottom: 0;left: 50%;z-index: 0;}#sk-container-id-1 div.sk-serial {display: flex;flex-direction: column;align-items: center;background-color: white;padding-right: 0.2em;padding-left: 0.2em;position: relative;}#sk-container-id-1 div.sk-item {position: relative;z-index: 1;}#sk-container-id-1 div.sk-parallel {display: flex;align-items: stretch;justify-content: center;background-color: white;position: relative;}#sk-container-id-1 div.sk-item::before, #sk-container-id-1 div.sk-parallel-item::before {content: \"\";position: absolute;border-left: 1px solid gray;box-sizing: border-box;top: 0;bottom: 0;left: 50%;z-index: -1;}#sk-container-id-1 div.sk-parallel-item {display: flex;flex-direction: column;z-index: 1;position: relative;background-color: white;}#sk-container-id-1 div.sk-parallel-item:first-child::after {align-self: flex-end;width: 50%;}#sk-container-id-1 div.sk-parallel-item:last-child::after {align-self: flex-start;width: 50%;}#sk-container-id-1 div.sk-parallel-item:only-child::after {width: 0;}#sk-container-id-1 div.sk-dashed-wrapped {border: 1px dashed gray;margin: 0 0.4em 0.5em 0.4em;box-sizing: border-box;padding-bottom: 0.4em;background-color: white;}#sk-container-id-1 div.sk-label label {font-family: monospace;font-weight: bold;display: inline-block;line-height: 1.2em;}#sk-container-id-1 div.sk-label-container {text-align: center;}#sk-container-id-1 div.sk-container {/* jupyter's `normalize.less` sets `[hidden] { display: none; }` but bootstrap.min.css set `[hidden] { display: none !important; }` so we also need the `!important` here to be able to override the default hidden behavior on the sphinx rendered scikit-learn.org. See: https://github.com/scikit-learn/scikit-learn/issues/21755 */display: inline-block !important;position: relative;}#sk-container-id-1 div.sk-text-repr-fallback {display: none;}</style><div id=\"sk-container-id-1\" class=\"sk-top-container\"><div class=\"sk-text-repr-fallback\"><pre>KNeighborsClassifier(n_neighbors=3)</pre><b>In a Jupyter environment, please rerun this cell to show the HTML representation or trust the notebook. <br />On GitHub, the HTML representation is unable to render, please try loading this page with nbviewer.org.</b></div><div class=\"sk-container\" hidden><div class=\"sk-item\"><div class=\"sk-estimator sk-toggleable\"><input class=\"sk-toggleable__control sk-hidden--visually\" id=\"sk-estimator-id-1\" type=\"checkbox\" checked><label for=\"sk-estimator-id-1\" class=\"sk-toggleable__label sk-toggleable__label-arrow\">KNeighborsClassifier</label><div class=\"sk-toggleable__content\"><pre>KNeighborsClassifier(n_neighbors=3)</pre></div></div></div></div></div>"
            ]
          },
          "metadata": {},
          "execution_count": 58
        }
      ]
    },
    {
      "cell_type": "code",
      "source": [
        "d6_predicted = knn.predict(d6_vector)\n",
        "\n",
        "print(\"Predicted class label for d6:\", d6_predicted)\n",
        "\n",
        "d7_predicted = knn.predict(d7_vector)\n",
        "\n",
        "print(\"Predicted class label for d7:\", d7_predicted)"
      ],
      "metadata": {
        "colab": {
          "base_uri": "https://localhost:8080/"
        },
        "id": "Vkstop8pCs4W",
        "outputId": "85762029-27ad-49de-9381-ef388889ae97"
      },
      "execution_count": 59,
      "outputs": [
        {
          "output_type": "stream",
          "name": "stdout",
          "text": [
            "Predicted class label for d6: ['N']\n",
            "Predicted class label for d7: ['S']\n"
          ]
        }
      ]
    }
  ]
}